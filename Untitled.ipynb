{
 "cells": [
  {
   "cell_type": "markdown",
   "metadata": {},
   "source": [
    "# ASI assessed exercise 2015/2016"
   ]
  },
  {
   "cell_type": "markdown",
   "metadata": {},
   "source": [
    "## Question 1:"
   ]
  },
  {
   "cell_type": "code",
   "execution_count": 108,
   "metadata": {
    "collapsed": true
   },
   "outputs": [],
   "source": [
    "import numpy as np\n",
    "%matplotlib inline\n",
    "import matplotlib.pyplot as plt\n",
    "import pandas as pd\n",
    "from math import *\n",
    "import itertools"
   ]
  },
  {
   "cell_type": "code",
   "execution_count": 71,
   "metadata": {
    "collapsed": false
   },
   "outputs": [],
   "source": [
    "white_wine_features_target = np.genfromtxt(\"winequality-white-header-removed.csv\", dtype=np.float64, delimiter=';') \n",
    "red_wine_features_target = np.genfromtxt(\"winequality-red-header-removed.csv\", dtype=np.float64, delimiter=';')"
   ]
  },
  {
   "cell_type": "markdown",
   "metadata": {},
   "source": [
    "## Question 2:"
   ]
  },
  {
   "cell_type": "code",
   "execution_count": 72,
   "metadata": {
    "collapsed": false
   },
   "outputs": [
    {
     "data": {
      "text/plain": [
       "(array([    0.,     0.,     0.,    20.,   163.,  1457.,  2198.,   880.,\n",
       "          175.,     5.]),\n",
       " array([ 0,  1,  2,  3,  4,  5,  6,  7,  8,  9, 10]),\n",
       " <a list of 10 Patch objects>)"
      ]
     },
     "execution_count": 72,
     "metadata": {},
     "output_type": "execute_result"
    },
    {
     "data": {
      "image/png": "[encoded data removed]",
      "text/plain": [
       "<matplotlib.figure.Figure at 0x1e1196759e8>"
      ]
     },
     "metadata": {},
     "output_type": "display_data"
    }
   ],
   "source": [
    "plt.hist(white_wine_features_target[:, -1], bins=range(11))"
   ]
  },
  {
   "cell_type": "code",
   "execution_count": 73,
   "metadata": {
    "collapsed": false
   },
   "outputs": [
    {
     "data": {
      "text/plain": [
       "(array([   0.,    0.,    0.,   10.,   53.,  681.,  638.,  199.,   18.,    0.]),\n",
       " array([ 0,  1,  2,  3,  4,  5,  6,  7,  8,  9, 10]),\n",
       " <a list of 10 Patch objects>)"
      ]
     },
     "execution_count": 73,
     "metadata": {},
     "output_type": "execute_result"
    },
    {
     "data": {
      "image/png": "[encoded data removed]",
      "text/plain": [
       "<matplotlib.figure.Figure at 0x1e119fb05f8>"
      ]
     },
     "metadata": {},
     "output_type": "display_data"
    }
   ],
   "source": [
    "plt.hist(red_wine_features_target[:,-1], bins = range(11))"
   ]
  },
  {
   "cell_type": "markdown",
   "metadata": {},
   "source": [
    "## Question 3:"
   ]
  },
  {
   "cell_type": "markdown",
   "metadata": {},
   "source": [
    "We have to be careful not to reguralize too much. Because then we would not predict low quality wine or high quality wine. The vast majority of the examples are graded 5,6 or 7. Our actions must differ depending on the type of algorithme that we use. With a linear regression, we should add more features (by increasing the polynomial order for example) because we need it to fit also the few cases of 4,8 and 9 With only 11 features and several thousands training examples, we'll likely only predict 5,6 or 7. With the K-nn, if we set K to a value like 20, we'll never predict 4,8 or 9 because it's very unlikely that 20 points with those labels are close to each other."
   ]
  },
  {
   "cell_type": "markdown",
   "metadata": {},
   "source": [
    "## Question 4: Linear regression"
   ]
  },
  {
   "cell_type": "markdown",
   "metadata": {},
   "source": [
    "#### Question 4.a:"
   ]
  },
  {
   "cell_type": "code",
   "execution_count": 74,
   "metadata": {
    "collapsed": true
   },
   "outputs": [],
   "source": [
    "np.random.shuffle(red_wine_features_target)\n",
    "num_entries = red_wine_features_target.shape[0]"
   ]
  },
  {
   "cell_type": "code",
   "execution_count": 75,
   "metadata": {
    "collapsed": false
   },
   "outputs": [],
   "source": [
    "train = red_wine_features_target[:int(num_entries * 0.7)]\n",
    "test = red_wine_features_target[int(num_entries * 0.7):]"
   ]
  },
  {
   "cell_type": "markdown",
   "metadata": {},
   "source": [
    "#### Question 4.b:"
   ]
  },
  {
   "cell_type": "code",
   "execution_count": 76,
   "metadata": {
    "collapsed": false
   },
   "outputs": [],
   "source": [
    "def features_targets(array):\n",
    "    return array[:,:-1] , array[:,-1:]"
   ]
  },
  {
   "cell_type": "code",
   "execution_count": 77,
   "metadata": {
    "collapsed": false
   },
   "outputs": [],
   "source": [
    "def extend(X, functions):\n",
    "    list_of_new_values = []\n",
    "    for function in functions:\n",
    "        new_values = function(X)\n",
    "        list_of_new_values.append(new_values)\n",
    "    for new_values in list_of_new_values:\n",
    "        X = np.concatenate((X, new_values), axis=1)\n",
    "\n",
    "    lines_number = X.shape[0]\n",
    "    X_with_ones = np.concatenate((np.array([[1] * lines_number]).T, X), axis=1)\n",
    "    return X_with_ones"
   ]
  },
  {
   "cell_type": "code",
   "execution_count": 78,
   "metadata": {
    "collapsed": true
   },
   "outputs": [],
   "source": [
    "def train_regressor(array, functions=[]):\n",
    "    X, Y = features_targets(array)\n",
    "    X = extend(X, functions)\n",
    "\n",
    "    inverse = np.linalg.pinv(X.T.dot(X))\n",
    "    A = inverse.dot(X.T).dot(Y)\n",
    "    return A"
   ]
  },
  {
   "cell_type": "code",
   "execution_count": 79,
   "metadata": {
    "collapsed": false
   },
   "outputs": [],
   "source": [
    "A = train_regressor(train)"
   ]
  },
  {
   "cell_type": "markdown",
   "metadata": {},
   "source": [
    "#### Question 4.c:"
   ]
  },
  {
   "cell_type": "code",
   "execution_count": 80,
   "metadata": {
    "collapsed": true
   },
   "outputs": [],
   "source": [
    "def predict_regressor(array, A, functions=[]):\n",
    "    new_X, Y = features_targets(array)\n",
    "    new_X = extend(new_X, functions)\n",
    "    return new_X.dot(A), Y"
   ]
  },
  {
   "cell_type": "code",
   "execution_count": 81,
   "metadata": {
    "collapsed": true
   },
   "outputs": [],
   "source": [
    "def mse(predictions, expected):\n",
    "    size = predictions.shape[0]\n",
    "    errors = predictions - expected\n",
    "    error = errors.T.dot(errors)\n",
    "    return error[0, 0] / size"
   ]
  },
  {
   "cell_type": "code",
   "execution_count": 82,
   "metadata": {
    "collapsed": false
   },
   "outputs": [],
   "source": [
    "predictions, expectations = predict_regressor(test, A)"
   ]
  },
  {
   "cell_type": "code",
   "execution_count": 83,
   "metadata": {
    "collapsed": false,
    "scrolled": false
   },
   "outputs": [
    {
     "data": {
      "image/png": "[encoded data removed]",
      "text/plain": [
       "<matplotlib.figure.Figure at 0x1e119ee5780>"
      ]
     },
     "metadata": {},
     "output_type": "display_data"
    }
   ],
   "source": [
    "plt.figure(figsize=(20, 10))\n",
    "plt.plot(predictions)\n",
    "plt.scatter(range(len(test)),expectations)\n",
    "plt.xlim((0,100))\n",
    "plt.show()"
   ]
  },
  {
   "cell_type": "code",
   "execution_count": 84,
   "metadata": {
    "collapsed": false
   },
   "outputs": [
    {
     "data": {
      "image/png": "[encoded data removed]",
      "text/plain": [
       "<matplotlib.figure.Figure at 0x1e119e3aa90>"
      ]
     },
     "metadata": {},
     "output_type": "display_data"
    }
   ],
   "source": [
    "plt.figure(figsize=(20, 10))\n",
    "plt.plot(predictions)\n",
    "plt.scatter(range(len(test)),expectations)\n",
    "plt.show()"
   ]
  },
  {
   "cell_type": "code",
   "execution_count": 85,
   "metadata": {
    "collapsed": false
   },
   "outputs": [],
   "source": [
    "mse_ = mse(predictions, expectations)"
   ]
  },
  {
   "cell_type": "code",
   "execution_count": 86,
   "metadata": {
    "collapsed": false
   },
   "outputs": [
    {
     "data": {
      "text/plain": [
       "0.45851652849702307"
      ]
     },
     "execution_count": 86,
     "metadata": {},
     "output_type": "execute_result"
    }
   ],
   "source": [
    "mse_"
   ]
  },
  {
   "cell_type": "markdown",
   "metadata": {},
   "source": [
    "#### Question 4.d:"
   ]
  },
  {
   "cell_type": "markdown",
   "metadata": {},
   "source": [
    "Since we measure the performance of our model with a mean square error, a good way to check if our model performs well is to compare it to naive predictions. So we could predict every time the mean of the quality colomn and do a mean square error. Then we compare the \"naïve\" model and the linear model. Doing this is actually comparing the mse of our linear model to the variance of the \"Quality\" colomn."
   ]
  },
  {
   "cell_type": "markdown",
   "metadata": {},
   "source": [
    "#### Question 4.e:"
   ]
  },
  {
   "cell_type": "code",
   "execution_count": 87,
   "metadata": {
    "collapsed": true
   },
   "outputs": [],
   "source": [
    "def variance(values):\n",
    "    size = values.shape[0]\n",
    "    ones = np.array([[1] * size])\n",
    "    mean = (ones.dot(values) / size)[0, 0]\n",
    "    distance_to_mean = ones.T * mean - values\n",
    "    variance_ = (distance_to_mean.T.dot(distance_to_mean) / size)[0, 0]\n",
    "    return variance_"
   ]
  },
  {
   "cell_type": "code",
   "execution_count": 88,
   "metadata": {
    "collapsed": false
   },
   "outputs": [],
   "source": [
    "variance_ = variance(expectations)"
   ]
  },
  {
   "cell_type": "code",
   "execution_count": 89,
   "metadata": {
    "collapsed": false
   },
   "outputs": [
    {
     "data": {
      "text/plain": [
       "0.69998263888888901"
      ]
     },
     "execution_count": 89,
     "metadata": {},
     "output_type": "execute_result"
    }
   ],
   "source": [
    "variance_"
   ]
  },
  {
   "cell_type": "code",
   "execution_count": 90,
   "metadata": {
    "collapsed": false
   },
   "outputs": [
    {
     "name": "stdout",
     "output_type": "stream",
     "text": [
      "Our model is 34 % better than the mean prediction.\n"
     ]
    }
   ],
   "source": [
    "print(\"Our model is\", int((variance_ - mse_)*100/variance_), \"% better than the mean prediction.\")"
   ]
  },
  {
   "cell_type": "markdown",
   "metadata": {},
   "source": [
    "Our linear model perform quite well. The MSE is substentially better than the variance. It means that our model brings value to the problem. And it's a path worth exploring if we want to get an even better MSE. That's why we'll try now a linear model of higher order."
   ]
  },
  {
   "cell_type": "markdown",
   "metadata": {},
   "source": [
    "#### To go further: trying polynomials"
   ]
  },
  {
   "cell_type": "markdown",
   "metadata": {},
   "source": [
    "Here we test the linear regression with an order of 3. Since we have 11 features, trying a real order 3 would result in 11+11^2+11^3 = 1463 features. So a bit too much. Instead we'll try with x, x^2, x^3 for each feature x. So a total of 33 features."
   ]
  },
  {
   "cell_type": "code",
   "execution_count": 91,
   "metadata": {
    "collapsed": false,
    "scrolled": false
   },
   "outputs": [],
   "source": [
    "functions = [lambda x: x*x, lambda x: x*x*x]\n",
    "A = train_regressor(train,functions)\n",
    "predictions, expectations = predict_regressor(test, A, functions)"
   ]
  },
  {
   "cell_type": "code",
   "execution_count": 92,
   "metadata": {
    "collapsed": true
   },
   "outputs": [],
   "source": [
    "mse_ = mse(predictions, expectations)"
   ]
  },
  {
   "cell_type": "code",
   "execution_count": 93,
   "metadata": {
    "collapsed": false
   },
   "outputs": [
    {
     "data": {
      "text/plain": [
       "0.44825836388191043"
      ]
     },
     "execution_count": 93,
     "metadata": {},
     "output_type": "execute_result"
    }
   ],
   "source": [
    "mse_"
   ]
  },
  {
   "cell_type": "code",
   "execution_count": 94,
   "metadata": {
    "collapsed": false
   },
   "outputs": [],
   "source": [
    "variance_ = variance(expectations)"
   ]
  },
  {
   "cell_type": "code",
   "execution_count": 95,
   "metadata": {
    "collapsed": false
   },
   "outputs": [
    {
     "data": {
      "text/plain": [
       "0.69998263888888901"
      ]
     },
     "execution_count": 95,
     "metadata": {},
     "output_type": "execute_result"
    }
   ],
   "source": [
    "variance_"
   ]
  },
  {
   "cell_type": "code",
   "execution_count": 96,
   "metadata": {
    "collapsed": false
   },
   "outputs": [
    {
     "name": "stdout",
     "output_type": "stream",
     "text": [
      "Our model is 35 % better than the mean prediction.\n"
     ]
    }
   ],
   "source": [
    "print(\"Our model is\", int((variance_ - mse_)*100/variance_), \"% better than the mean prediction.\")"
   ]
  },
  {
   "cell_type": "markdown",
   "metadata": {},
   "source": [
    "It seems that higher polynomials does not decrease the MSE. Maybe because we didn't try with combinaisons of features. It would be worth spending some time on features selection with the help of cross-validation."
   ]
  },
  {
   "cell_type": "markdown",
   "metadata": {},
   "source": [
    "## Question 5: Regularized linear regression"
   ]
  },
  {
   "cell_type": "markdown",
   "metadata": {},
   "source": [
    "#### Question 5.a: "
   ]
  },
  {
   "cell_type": "code",
   "execution_count": 97,
   "metadata": {
    "collapsed": true
   },
   "outputs": [],
   "source": [
    "def train_regularized_regressor(array, functions=[], lambda_=0):\n",
    "    X, Y = features_targets(array)\n",
    "    X = extend(X, functions)\n",
    "\n",
    "    I = np.identity(X.shape[1])\n",
    "    I[0, 0] = 0\n",
    "\n",
    "    inverse = np.linalg.pinv(X.T.dot(X) + lambda_ * I)\n",
    "    A = inverse.dot(X.T).dot(Y)\n",
    "    return A"
   ]
  },
  {
   "cell_type": "code",
   "execution_count": 98,
   "metadata": {
    "collapsed": false,
    "scrolled": false
   },
   "outputs": [
    {
     "data": {
      "text/plain": [
       "[<matplotlib.lines.Line2D at 0x1e119e3da20>]"
      ]
     },
     "execution_count": 98,
     "metadata": {},
     "output_type": "execute_result"
    },
    {
     "data": {
      "image/png": "[encoded data removed]",
      "text/plain": [
       "<matplotlib.figure.Figure at 0x1e11a032940>"
      ]
     },
     "metadata": {},
     "output_type": "display_data"
    }
   ],
   "source": [
    "extreme = [0,10]\n",
    "nb_points = 1001\n",
    "mse_list = []\n",
    "for lambda_ in np.linspace(extreme[0],extreme[1],nb_points):\n",
    "    A = train_regularized_regressor(train, lambda_ = lambda_)\n",
    "    predictions, Y_test = predict_regressor(test,A)\n",
    "    mse_list.append(mse(predictions, Y_test))\n",
    "    \n",
    "plt.plot(np.linspace(extreme[0],extreme[1],nb_points),mse_list)"
   ]
  },
  {
   "cell_type": "markdown",
   "metadata": {},
   "source": [
    "#### Question 5.b:"
   ]
  },
  {
   "cell_type": "markdown",
   "metadata": {},
   "source": [
    "We cannot trust this kind of practice because the result would fit well on the test data, but it doesn't mean that our model can be easily generalized. In the end, we can always find a model that fit perfectly the test data. But as soon as we change the test data, everything will be different and the mse will change(and will likely be worst). We need to test it on more data to improve our confidence in the model."
   ]
  },
  {
   "cell_type": "markdown",
   "metadata": {},
   "source": [
    "#### Question 5.c:"
   ]
  },
  {
   "cell_type": "code",
   "execution_count": 99,
   "metadata": {
    "collapsed": true
   },
   "outputs": [],
   "source": [
    "def cross_validation(data, train_function, prediction_function, nb_slices):\n",
    "    np.random.shuffle(data)\n",
    "    intervals = np.linspace(0, len(data), nb_slices)\n",
    "    indexes = [int(i) for i in intervals]\n",
    "\n",
    "    mse_list = []\n",
    "    for i in range(nb_slices - 1):\n",
    "        test = data[indexes[i]:indexes[i + 1]]\n",
    "        train = np.concatenate((data[:indexes[i]], data[indexes[i + 1]:]), axis=0)\n",
    "        A = train_function(train)\n",
    "        prediction, targets = prediction_function(test, A)\n",
    "        current_mse = mse(prediction, targets)\n",
    "        mse_list.append(current_mse)\n",
    "\n",
    "    mean = sum(mse_list) / len(mse_list)\n",
    "    return mean"
   ]
  },
  {
   "cell_type": "code",
   "execution_count": 100,
   "metadata": {
    "collapsed": false
   },
   "outputs": [],
   "source": [
    "def find_best_lambda_cross_validation(data, functions=[]):\n",
    "    extreme = [0, 2]\n",
    "    nb_points = 1000\n",
    "    mse_list = []\n",
    "    for lambda_ in np.linspace(extreme[0], extreme[1], nb_points):\n",
    "        def regressor(x):\n",
    "            return train_regularized_regressor(x, functions, lambda_)\n",
    "\n",
    "        def predict(x, A):\n",
    "            return predict_regressor(x, A, functions)\n",
    "\n",
    "        current_mse = cross_validation(data, regressor, predict, 10)\n",
    "\n",
    "        mse_list.append(current_mse)\n",
    "\n",
    "    m = min(mse_list)\n",
    "    idx = mse_list.index(m)\n",
    "    best_lambda = np.linspace(extreme[0], extreme[1], nb_points)[idx]\n",
    "    plt.plot(np.linspace(extreme[0], extreme[1], nb_points), mse_list)\n",
    "    plt.show()\n",
    "    print('Best mse:', m, \"\\t Best lambda:\", best_lambda)\n",
    "    return m, best_lambda"
   ]
  },
  {
   "cell_type": "code",
   "execution_count": 101,
   "metadata": {
    "collapsed": false,
    "scrolled": true
   },
   "outputs": [
    {
     "data": {
      "image/png": "[encoded data removed]",
      "text/plain": [
       "<matplotlib.figure.Figure at 0x1e11a058b38>"
      ]
     },
     "metadata": {},
     "output_type": "display_data"
    },
    {
     "name": "stdout",
     "output_type": "stream",
     "text": [
      "Best mse: 0.421720774309 \t Best lambda: 0.214214214214\n"
     ]
    }
   ],
   "source": [
    "mse_ , best_lambda = find_best_lambda_cross_validation(red_wine_features_target)"
   ]
  },
  {
   "cell_type": "markdown",
   "metadata": {},
   "source": [
    "#### Question 5.d:"
   ]
  },
  {
   "cell_type": "markdown",
   "metadata": {},
   "source": [
    "We did not test our linear regression model with cross validation. And, because we don't want to compare two values obtains with different levels of accuracy, we'll do a cross-validation with the linear regression."
   ]
  },
  {
   "cell_type": "code",
   "execution_count": 104,
   "metadata": {
    "collapsed": true
   },
   "outputs": [],
   "source": [
    "mse_linear_regression = cross_validation(red_wine_features_target, train_regressor, predict_regressor, 10)"
   ]
  },
  {
   "cell_type": "code",
   "execution_count": 105,
   "metadata": {
    "collapsed": false
   },
   "outputs": [
    {
     "data": {
      "text/plain": [
       "0.42577968860670079"
      ]
     },
     "execution_count": 105,
     "metadata": {},
     "output_type": "execute_result"
    }
   ],
   "source": [
    "mse_linear_regression"
   ]
  },
  {
   "cell_type": "markdown",
   "metadata": {},
   "source": [
    "The mse with the linear regression is 0.425 and the one with a regularization term is 0.421 which is slightly better. But it would be interesting to know how well perform a linear regression of order 3 with a regularization term."
   ]
  },
  {
   "cell_type": "code",
   "execution_count": 106,
   "metadata": {
    "collapsed": false
   },
   "outputs": [
    {
     "data": {
      "image/png": "[encoded data removed]",
      "text/plain": [
       "<matplotlib.figure.Figure at 0x1e11a032208>"
      ]
     },
     "metadata": {},
     "output_type": "display_data"
    },
    {
     "name": "stdout",
     "output_type": "stream",
     "text": [
      "Best mse: 0.41106517393 \t Best lambda: 1.85385385385\n"
     ]
    }
   ],
   "source": [
    "mse_order3 , best_lambda_order3 = find_best_lambda_cross_validation(red_wine_features_target, functions)"
   ]
  },
  {
   "cell_type": "markdown",
   "metadata": {},
   "source": [
    "we get 0.411 which is better than the 0.421 given by a regularized linear regression of order 1. It tells us that we can get a better improvement by increasing the order of the features. Comforting the idea of features selection."
   ]
  },
  {
   "cell_type": "markdown",
   "metadata": {},
   "source": [
    "## Question 6: Classification"
   ]
  },
  {
   "cell_type": "markdown",
   "metadata": {},
   "source": [
    "#### Question 6.a:"
   ]
  },
  {
   "cell_type": "markdown",
   "metadata": {},
   "source": [
    "A limitation of the regression is that it's possible for a feature to influence the \"Quality\" but not in the linear sense. It could be a log or an exponential for all we know. And classification algorithms are better at handling this kind of features."
   ]
  },
  {
   "cell_type": "markdown",
   "metadata": {},
   "source": [
    "#### Question 6.b:"
   ]
  },
  {
   "cell_type": "markdown",
   "metadata": {},
   "source": [
    "For the following questions, I will use a naïve bayes classifier. One of the disadvantages of this algorithm is that the classifier assume that all the features are independants. And it's not the case at all here. We have for example \"free sulfur dioxide\" and \"total sulfur dioxide\". Just by the name, we know that they're related. It's the same for \"fixed acidity\" and \"pH\" since the pH is a measure of acidity.<br>\n",
    "On the other hand, with naïve bayes, the training and testing part are both really fast. Which makes it interesting if it will be heavely used to predict something in the future. Or even do a lot of cross-validations to find the best set of features."
   ]
  },
  {
   "cell_type": "markdown",
   "metadata": {},
   "source": [
    "#### Question 6.c:"
   ]
  },
  {
   "cell_type": "markdown",
   "metadata": {},
   "source": [
    "Since there is no parameter to tune, we'll replace this step by data pre-processing. In our case, we will do a cross-validation for each set of features that we select. Since we have 11 features, we'll try the different 2^11 set of possible features."
   ]
  },
  {
   "cell_type": "markdown",
   "metadata": {},
   "source": [
    "#### Question 6.d:"
   ]
  },
  {
   "cell_type": "code",
   "execution_count": 153,
   "metadata": {
    "collapsed": false
   },
   "outputs": [
    {
     "data": {
      "text/plain": [
       "[(2,), (1,), (1, 2), (0,), (0, 2), (0, 1), (0, 1, 2)]"
      ]
     },
     "execution_count": 153,
     "metadata": {},
     "output_type": "execute_result"
    }
   ],
   "source": [
    "# This will allow us to select features by giving the index of the features to keep.\n",
    "def getAllPossibilities(lenght = 11):\n",
    "    result = []\n",
    "    for booleans in itertools.product([False, True],repeat=lenght):\n",
    "        result.append(tuple(i for i, take in enumerate(booleans) if take))\n",
    "    return result[1:] # Because the first one is empty\n",
    "\n",
    "getAllPossibilities(3)"
   ]
  },
  {
   "cell_type": "code",
   "execution_count": 156,
   "metadata": {
    "collapsed": false
   },
   "outputs": [
    {
     "data": {
      "text/plain": [
       "array([[  8.9 ,   0.39,   3.12,   9.5 ,   6.  ],\n",
       "       [  9.8 ,   0.49,   3.31,  10.7 ,   6.  ],\n",
       "       [  7.7 ,   0.2 ,   3.36,  10.9 ,   5.  ],\n",
       "       ..., \n",
       "       [  7.5 ,   0.07,   3.38,  10.9 ,   4.  ],\n",
       "       [  6.6 ,   0.  ,   3.5 ,  11.9 ,   6.  ],\n",
       "       [  8.9 ,   0.35,   3.18,  10.3 ,   6.  ]])"
      ]
     },
     "execution_count": 156,
     "metadata": {},
     "output_type": "execute_result"
    }
   ],
   "source": [
    "# selection is a tuple indexes indicating which features to keep.\n",
    "def select_features(data, selection):\n",
    "    selection +=(11,)\n",
    "    return data[:,selection]\n",
    "\n",
    "select_features(red_wine_features_target, (0,2,8,10))"
   ]
  },
  {
   "cell_type": "code",
   "execution_count": 131,
   "metadata": {
    "collapsed": true
   },
   "outputs": [],
   "source": [
    "def naive_bayes_train(data):\n",
    "    lenght = data.shape[1]\n",
    "    df = pd.DataFrame(data)\n",
    "\n",
    "    # We group by the quality of the wine\n",
    "    grouped = df.groupby([lenght - 1])\n",
    "\n",
    "    # Now we get the variances and means to create later the gaussian distributions\n",
    "    gaussians = dict()\n",
    "    for quality, set in grouped:\n",
    "        means = list(set.mean())[:-1]\n",
    "        variances = list(set.var())[:-1]\n",
    "\n",
    "        # We create a list of gaussian distributions\n",
    "        a = []\n",
    "        for i in range(lenght - 1):\n",
    "            a.append((means[i], variances[i]))\n",
    "        gaussians[int(quality)] = a\n",
    "    return gaussians"
   ]
  },
  {
   "cell_type": "code",
   "execution_count": 132,
   "metadata": {
    "collapsed": true
   },
   "outputs": [],
   "source": [
    "def gaussian(x, mean, variance):\n",
    "    exponential = exp(-(x - mean) ** 2 / (2 * variance))\n",
    "\n",
    "    result = exponential / (sqrt(variance * 2 * pi))\n",
    "\n",
    "    return result"
   ]
  },
  {
   "cell_type": "code",
   "execution_count": 133,
   "metadata": {
    "collapsed": true
   },
   "outputs": [],
   "source": [
    "def naive_bayes_predict(data, table):\n",
    "    X, Y = features_targets(data)\n",
    "    predictions = []\n",
    "    for row in X:\n",
    "        best_class_and_score = (0, 0)\n",
    "        for key, value in table.items():\n",
    "            scores = [gaussian(row[i], value[i][0], value[i][1]) for i in range(11)]\n",
    "            score = np.prod(scores)\n",
    "            if score > best_class_and_score[1]:\n",
    "                best_class_and_score = (key, score)\n",
    "\n",
    "        predictions.append(best_class_and_score)\n",
    "\n",
    "    return np.array([prediction[0] for prediction in predictions]).T, Y"
   ]
  },
  {
   "cell_type": "markdown",
   "metadata": {},
   "source": [
    "Even if the question ask for the best classification accuracy, I do believe that the mse should be employed. Let's say we predict a quality of 4 and the true quality was 9. With the 0/1 loss, it's the same as if we predicted a quality of 8. That's why we will still use mse for cross-validation."
   ]
  },
  {
   "cell_type": "code",
   "execution_count": null,
   "metadata": {
    "collapsed": true
   },
   "outputs": [],
   "source": [
    "list_of_features_sets = getAllPossibilities()\n",
    "for features_set in list_of_features_sets:\n",
    "    "
   ]
  },
  {
   "cell_type": "code",
   "execution_count": null,
   "metadata": {
    "collapsed": true
   },
   "outputs": [],
   "source": []
  },
  {
   "cell_type": "code",
   "execution_count": null,
   "metadata": {
    "collapsed": true
   },
   "outputs": [],
   "source": []
  },
  {
   "cell_type": "code",
   "execution_count": 134,
   "metadata": {
    "collapsed": true
   },
   "outputs": [],
   "source": [
    "def get_classification_accuracy(predictions, targets):\n",
    "    assert len(predictions) == len(targets)\n",
    "\n",
    "    nb_exact_guesses = 0\n",
    "    for prediction, target in zip(predictions, targets):\n",
    "        if prediction == target:\n",
    "            nb_exact_guesses += 1\n",
    "\n",
    "    accuracy_percentage = nb_exact_guesses * 100 / len(predictions)\n",
    "    return accuracy_percentage"
   ]
  },
  {
   "cell_type": "markdown",
   "metadata": {},
   "source": [
    "#### Question 6.d:"
   ]
  },
  {
   "cell_type": "code",
   "execution_count": 135,
   "metadata": {
    "collapsed": true
   },
   "outputs": [],
   "source": [
    "def get_confusion_matrix(predictions, targets):\n",
    "    l = len(targets)\n",
    "    assert len(predictions) == l\n",
    "\n",
    "    lower = int(min((min(predictions), min(targets))))\n",
    "    upper = int(max((max(predictions), max(targets))))\n",
    "    nb_classes = upper + 1 - lower\n",
    "\n",
    "    confusion_matrix = np.zeros((nb_classes, nb_classes))\n",
    "    for prediction, target in zip(predictions, targets):\n",
    "        confusion_matrix[int(target) - lower, int(prediction)-lower] += 1\n",
    "\n",
    "    return confusion_matrix"
   ]
  },
  {
   "cell_type": "code",
   "execution_count": 136,
   "metadata": {
    "collapsed": false
   },
   "outputs": [],
   "source": [
    "gaussians = naive_bayes_train(train)\n",
    "predictions, targets = naive_bayes_predict(test, gaussians)"
   ]
  },
  {
   "cell_type": "code",
   "execution_count": 137,
   "metadata": {
    "collapsed": false
   },
   "outputs": [
    {
     "data": {
      "text/plain": [
       "0.91249999999999998"
      ]
     },
     "execution_count": 137,
     "metadata": {},
     "output_type": "execute_result"
    }
   ],
   "source": [
    "mse(predictions, targets)"
   ]
  },
  {
   "cell_type": "code",
   "execution_count": 138,
   "metadata": {
    "collapsed": false
   },
   "outputs": [
    {
     "data": {
      "text/plain": [
       "40.208333333333336"
      ]
     },
     "execution_count": 138,
     "metadata": {},
     "output_type": "execute_result"
    }
   ],
   "source": [
    "get_classification_accuracy(predictions, targets)"
   ]
  },
  {
   "cell_type": "code",
   "execution_count": 139,
   "metadata": {
    "collapsed": false
   },
   "outputs": [
    {
     "data": {
      "text/plain": [
       "array([[   0.,    1.,    1.,    0.,    0.,    0.],\n",
       "       [  12.,    2.,    6.,    1.,    0.,    2.],\n",
       "       [  34.,   12.,  115.,   34.,   11.,    5.],\n",
       "       [  22.,   13.,   36.,   58.,   39.,   25.],\n",
       "       [   1.,    0.,    2.,    5.,   18.,   23.],\n",
       "       [   0.,    0.,    0.,    0.,    2.,    0.]])"
      ]
     },
     "execution_count": 139,
     "metadata": {},
     "output_type": "execute_result"
    }
   ],
   "source": [
    "get_confusion_matrix(predictions, targets)"
   ]
  },
  {
   "cell_type": "code",
   "execution_count": null,
   "metadata": {
    "collapsed": true
   },
   "outputs": [],
   "source": []
  },
  {
   "cell_type": "code",
   "execution_count": null,
   "metadata": {
    "collapsed": true
   },
   "outputs": [],
   "source": []
  },
  {
   "cell_type": "code",
   "execution_count": null,
   "metadata": {
    "collapsed": true
   },
   "outputs": [],
   "source": []
  },
  {
   "cell_type": "code",
   "execution_count": null,
   "metadata": {
    "collapsed": true
   },
   "outputs": [],
   "source": []
  },
  {
   "cell_type": "code",
   "execution_count": null,
   "metadata": {
    "collapsed": true
   },
   "outputs": [],
   "source": []
  },
  {
   "cell_type": "code",
   "execution_count": null,
   "metadata": {
    "collapsed": true
   },
   "outputs": [],
   "source": []
  },
  {
   "cell_type": "code",
   "execution_count": null,
   "metadata": {
    "collapsed": true
   },
   "outputs": [],
   "source": []
  }
 ],
 "metadata": {
  "kernelspec": {
   "display_name": "Python 3",
   "language": "python",
   "name": "python3"
  },
  "language_info": {
   "codemirror_mode": {
    "name": "ipython",
    "version": 3
   },
   "file_extension": ".py",
   "mimetype": "text/x-python",
   "name": "python",
   "nbconvert_exporter": "python",
   "pygments_lexer": "ipython3",
   "version": "3.5.1"
  }
 },
 "nbformat": 4,
 "nbformat_minor": 0
}
